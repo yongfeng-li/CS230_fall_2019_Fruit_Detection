{
 "cells": [
  {
   "cell_type": "code",
   "execution_count": 2,
   "metadata": {
    "pycharm": {
     "is_executing": false
    }
   },
   "outputs": [],
   "source": [
    "import os\n",
    "import json"
   ]
  },
  {
   "cell_type": "code",
   "execution_count": 3,
   "metadata": {
    "pycharm": {}
   },
   "outputs": [],
   "source": [
    "# Root directory of the project\n",
    "ROOT_DIR = os.path.abspath(\"../../\")"
   ]
  },
  {
   "cell_type": "code",
   "execution_count": 4,
   "metadata": {
    "pycharm": {}
   },
   "outputs": [],
   "source": [
    "annotation_dir = 'datasets/d2s_dataset/annotations'"
   ]
  },
  {
   "cell_type": "code",
   "execution_count": 5,
   "metadata": {
    "pycharm": {}
   },
   "outputs": [],
   "source": [
    "annotation_file_name = 'D2S_validation'"
   ]
  },
  {
   "cell_type": "markdown",
   "metadata": {
    "pycharm": {}
   },
   "source": [
    "## load file"
   ]
  },
  {
   "cell_type": "code",
   "execution_count": 6,
   "metadata": {
    "pycharm": {}
   },
   "outputs": [],
   "source": [
    "annotation_file = os.path.join(ROOT_DIR, annotation_dir, annotation_file_name+'.json')\n",
    "anno_data = json.load(open(annotation_file, 'r'))"
   ]
  },
  {
   "cell_type": "markdown",
   "metadata": {
    "pycharm": {}
   },
   "source": [
    "## split "
   ]
  },
  {
   "cell_type": "code",
   "execution_count": 7,
   "metadata": {
    "pycharm": {}
   },
   "outputs": [],
   "source": [
    "from sklearn.model_selection import train_test_split"
   ]
  },
  {
   "cell_type": "code",
   "execution_count": 8,
   "metadata": {
    "pycharm": {}
   },
   "outputs": [
    {
     "name": "stdout",
     "output_type": "stream",
     "text": [
      "There are 2880 images for train, 360 images for val.\n",
      "There are 360 images for test.\n"
     ]
    }
   ],
   "source": [
    "dataset_train, dataset_test = train_test_split(anno_data['images'], test_size=0.2, random_state=123)\n",
    "dataset_val, dataset_test = train_test_split(dataset_test, test_size=0.5, random_state=123)\n",
    "\n",
    "print('There are {} images for train, {} images for val.'.format(len(dataset_train), len(dataset_val)))\n",
    "print('There are {} images for test.'.format(len(dataset_test)))"
   ]
  },
  {
   "cell_type": "code",
   "execution_count": 10,
   "metadata": {
    "pycharm": {}
   },
   "outputs": [],
   "source": [
    "anno_data_train = anno_data.copy()\n",
    "anno_data_train['images'] = dataset_train"
   ]
  },
  {
   "cell_type": "code",
   "execution_count": 11,
   "metadata": {
    "pycharm": {}
   },
   "outputs": [],
   "source": [
    "anno_data_val = anno_data.copy()\n",
    "anno_data_val['images'] = dataset_val"
   ]
  },
  {
   "cell_type": "code",
   "execution_count": 12,
   "metadata": {},
   "outputs": [],
   "source": [
    "anno_data_test = anno_data.copy()\n",
    "anno_data_test['images'] = dataset_test"
   ]
  },
  {
   "cell_type": "code",
   "execution_count": 13,
   "metadata": {
    "pycharm": {}
   },
   "outputs": [
    {
     "name": "stdout",
     "output_type": "stream",
     "text": [
      "There are 2880 images for train, 360 images for val.\n"
     ]
    }
   ],
   "source": [
    "print('There are {} images for train, {} images for val.'.format(len(anno_data_train['images']), \n",
    "                                                                 len(anno_data_val['images'])))"
   ]
  },
  {
   "cell_type": "markdown",
   "metadata": {
    "pycharm": {}
   },
   "source": [
    "## save to json file"
   ]
  },
  {
   "cell_type": "code",
   "execution_count": 14,
   "metadata": {
    "pycharm": {}
   },
   "outputs": [],
   "source": [
    "train_file_name = os.path.join(ROOT_DIR, annotation_dir, annotation_file_name+'_train'+'.json')\n",
    "val_file_name = os.path.join(ROOT_DIR, annotation_dir, annotation_file_name+'_val'+'.json')\n",
    "test_file_name = os.path.join(ROOT_DIR, annotation_dir, annotation_file_name+'_test'+'.json')"
   ]
  },
  {
   "cell_type": "code",
   "execution_count": 15,
   "metadata": {
    "pycharm": {}
   },
   "outputs": [],
   "source": [
    "with open(train_file_name, 'w') as outfile:\n",
    "    json.dump(anno_data_train, outfile)"
   ]
  },
  {
   "cell_type": "code",
   "execution_count": 16,
   "metadata": {
    "pycharm": {}
   },
   "outputs": [],
   "source": [
    "with open(val_file_name, 'w') as outfile:\n",
    "    json.dump(anno_data_val, outfile)"
   ]
  },
  {
   "cell_type": "code",
   "execution_count": 18,
   "metadata": {
    "pycharm": {}
   },
   "outputs": [],
   "source": [
    "with open(test_file_name, 'w') as outfile:\n",
    "    json.dump(anno_data_test, outfile)"
   ]
  },
  {
   "cell_type": "code",
   "execution_count": null,
   "metadata": {},
   "outputs": [],
   "source": []
  }
 ],
 "metadata": {
  "kernelspec": {
   "display_name": "Python (RRS)",
   "language": "python",
   "name": "rrs"
  },
  "language_info": {
   "codemirror_mode": {
    "name": "ipython",
    "version": 3
   },
   "file_extension": ".py",
   "mimetype": "text/x-python",
   "name": "python",
   "nbconvert_exporter": "python",
   "pygments_lexer": "ipython3",
   "version": "3.6.8"
  },
  "toc": {
   "base_numbering": 1,
   "nav_menu": {},
   "number_sections": true,
   "sideBar": true,
   "skip_h1_title": false,
   "title_cell": "Table of Contents",
   "title_sidebar": "Contents",
   "toc_cell": false,
   "toc_position": {},
   "toc_section_display": true,
   "toc_window_display": false
  }
 },
 "nbformat": 4,
 "nbformat_minor": 2
}
